{
 "cells": [
  {
   "cell_type": "code",
   "execution_count": 3,
   "id": "f9fccfdc-7b99-4382-b703-86f8dd476647",
   "metadata": {},
   "outputs": [],
   "source": [
    "import cv2\n",
    "import numpy as np\n",
    "import matplotlib.pyplot as plt"
   ]
  },
  {
   "cell_type": "code",
   "execution_count": 10,
   "id": "2fa9afa5-1645-4bc0-ab84-54ea25f5854a",
   "metadata": {},
   "outputs": [],
   "source": [
    "x_position = -1\n",
    "y_position = -1\n",
    "drawing = False\n",
    "\n",
    "\n",
    "def drawCircle(event, x, y, flags, param):\n",
    "    global x_position, y_position, drawing\n",
    "    if event == cv2.EVENT_LBUTTONDOWN:\n",
    "        drawing = True\n",
    "        x_position,y_position = x,y\n",
    "        cv2.rectangle(img, (x,y),(x,y),(0,255,0), -1)\n",
    "    elif event == cv2.EVENT_MOUSEMOVE:\n",
    "        if drawing == True:\n",
    "            cv2.rectangle(img, (x_position, y_position), (x,y), (0,255,0), -1)\n",
    "    elif event - cv2.EVENT_MBUTTONUP:\n",
    "        drawing = False\n",
    "        cv2.rectangle(img, (x_position, y_position), (x,y), (0,255,0), -1)\n",
    "\n",
    "            \n",
    "cv2.namedWindow(winname='Frame')\n",
    "cv2.setMouseCallback('Frame', drawCircle)\n",
    "\n",
    "img = np.zeros((512,512,3), np.uint8)\n",
    "\n",
    "while True:\n",
    "    cv2.imshow('Frame',img)\n",
    "    if cv2.waitKey(20) & 0xFF == 27:\n",
    "        break\n",
    "cv2.destroyAllWindows()"
   ]
  },
  {
   "cell_type": "code",
   "execution_count": null,
   "id": "c502cbdc-4111-410d-b2fc-9ecd10024653",
   "metadata": {},
   "outputs": [],
   "source": []
  }
 ],
 "metadata": {
  "kernelspec": {
   "display_name": "Python 3 (ipykernel)",
   "language": "python",
   "name": "python3"
  },
  "language_info": {
   "codemirror_mode": {
    "name": "ipython",
    "version": 3
   },
   "file_extension": ".py",
   "mimetype": "text/x-python",
   "name": "python",
   "nbconvert_exporter": "python",
   "pygments_lexer": "ipython3",
   "version": "3.12.4"
  }
 },
 "nbformat": 4,
 "nbformat_minor": 5
}
